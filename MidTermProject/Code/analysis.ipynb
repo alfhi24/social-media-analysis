{
 "cells": [
  {
   "cell_type": "markdown",
   "metadata": {},
   "source": [
    "## Import libraries"
   ]
  },
  {
   "cell_type": "code",
   "execution_count": 1,
   "metadata": {},
   "outputs": [],
   "source": [
    "import networkx as nx\n",
    "import pandas as pd\n",
    "import matplotlib.pyplot as plt\n",
    "import numpy as np\n",
    "\n",
    "%matplotlib inline"
   ]
  },
  {
   "cell_type": "markdown",
   "metadata": {},
   "source": [
    "## import data and define graph"
   ]
  },
  {
   "cell_type": "code",
   "execution_count": 2,
   "metadata": {
    "scrolled": true
   },
   "outputs": [
    {
     "name": "stdout",
     "output_type": "stream",
     "text": [
      "Name: \n",
      "Type: Graph\n",
      "Number of nodes: 1445\n",
      "Number of edges: 1379\n",
      "Average degree:   1.9087\n"
     ]
    }
   ],
   "source": [
    "data = 'preprocessed_id.txt'\n",
    "dataGraph = nx.read_edgelist(data)\n",
    "type (dataGraph)\n",
    "print(nx.info(dataGraph))"
   ]
  },
  {
   "cell_type": "code",
   "execution_count": 3,
   "metadata": {},
   "outputs": [
    {
     "data": {
      "text/html": [
       "<div>\n",
       "<style scoped>\n",
       "    .dataframe tbody tr th:only-of-type {\n",
       "        vertical-align: middle;\n",
       "    }\n",
       "\n",
       "    .dataframe tbody tr th {\n",
       "        vertical-align: top;\n",
       "    }\n",
       "\n",
       "    .dataframe thead th {\n",
       "        text-align: right;\n",
       "    }\n",
       "</style>\n",
       "<table border=\"1\" class=\"dataframe\">\n",
       "  <thead>\n",
       "    <tr style=\"text-align: right;\">\n",
       "      <th></th>\n",
       "      <th>0</th>\n",
       "      <th>1</th>\n",
       "    </tr>\n",
       "  </thead>\n",
       "  <tbody>\n",
       "    <tr>\n",
       "      <th>0</th>\n",
       "      <td>1289956071537172484</td>\n",
       "      <td>1046084008742801408</td>\n",
       "    </tr>\n",
       "    <tr>\n",
       "      <th>1</th>\n",
       "      <td>1171388755</td>\n",
       "      <td>1046084008742801408</td>\n",
       "    </tr>\n",
       "    <tr>\n",
       "      <th>2</th>\n",
       "      <td>548904824</td>\n",
       "      <td>589687384</td>\n",
       "    </tr>\n",
       "    <tr>\n",
       "      <th>3</th>\n",
       "      <td>548904824</td>\n",
       "      <td>1246657358844923904</td>\n",
       "    </tr>\n",
       "    <tr>\n",
       "      <th>4</th>\n",
       "      <td>779784931</td>\n",
       "      <td>255409050</td>\n",
       "    </tr>\n",
       "  </tbody>\n",
       "</table>\n",
       "</div>"
      ],
      "text/plain": [
       "                     0                    1\n",
       "0  1289956071537172484  1046084008742801408\n",
       "1           1171388755  1046084008742801408\n",
       "2            548904824            589687384\n",
       "3            548904824  1246657358844923904\n",
       "4            779784931            255409050"
      ]
     },
     "execution_count": 3,
     "metadata": {},
     "output_type": "execute_result"
    }
   ],
   "source": [
    "edgeList = pd.read_csv(data, sep=\"\\t\", header=None)\n",
    "edgeList.head()"
   ]
  },
  {
   "cell_type": "code",
   "execution_count": 4,
   "metadata": {},
   "outputs": [],
   "source": [
    "# Define graph as G\n",
    "G = nx.Graph()"
   ]
  },
  {
   "cell_type": "code",
   "execution_count": 5,
   "metadata": {},
   "outputs": [
    {
     "data": {
      "image/png": "[encoded data removed]",
      "text/plain": [
       "<Figure size 432x288 with 1 Axes>"
      ]
     },
     "metadata": {},
     "output_type": "display_data"
    }
   ],
   "source": [
    "# Draw graph G\n",
    "\n",
    "nx.draw(G)\n",
    "plt.show()"
   ]
  },
  {
   "cell_type": "code",
   "execution_count": 6,
   "metadata": {},
   "outputs": [],
   "source": [
    "# Add edge list into graph\n",
    "\n",
    "for i, edge in edgeList.iterrows():\n",
    "    G.add_edge(edge[0], edge[1])"
   ]
  },
  {
   "cell_type": "code",
   "execution_count": 7,
   "metadata": {},
   "outputs": [],
   "source": [
    "# Calculate number of degree of the graph\n",
    "\n",
    "def calculate_degree(G,n = 0):\n",
    "    fmdegree = []\n",
    "    fmNode= []\n",
    "    for node in G.nodes():\n",
    "        tempD = G.degree(node)\n",
    "        if tempD >= n : fmdegree.append(tempD),fmNode.append(node)\n",
    "    \n",
    "    return fmdegree,fmNode"
   ]
  },
  {
   "cell_type": "code",
   "execution_count": 8,
   "metadata": {},
   "outputs": [
    {
     "name": "stdout",
     "output_type": "stream",
     "text": [
      "Maximum Degree of the node in this network : 167\n",
      "Manimum Degree of the node in this network : 1\n"
     ]
    }
   ],
   "source": [
    "# Print number of min and max degree\n",
    "\n",
    "gpdDegree, gpdNode = calculate_degree(G,0)\n",
    "print('Maximum Degree of the node in this network :', max(gpdDegree))\n",
    "print('Manimum Degree of the node in this network :', min(gpdDegree))"
   ]
  },
  {
   "cell_type": "code",
   "execution_count": 9,
   "metadata": {},
   "outputs": [
    {
     "data": {
      "text/html": [
       "<div>\n",
       "<style scoped>\n",
       "    .dataframe tbody tr th:only-of-type {\n",
       "        vertical-align: middle;\n",
       "    }\n",
       "\n",
       "    .dataframe tbody tr th {\n",
       "        vertical-align: top;\n",
       "    }\n",
       "\n",
       "    .dataframe thead th {\n",
       "        text-align: right;\n",
       "    }\n",
       "</style>\n",
       "<table border=\"1\" class=\"dataframe\">\n",
       "  <thead>\n",
       "    <tr style=\"text-align: right;\">\n",
       "      <th></th>\n",
       "      <th>Node</th>\n",
       "      <th>Degree</th>\n",
       "    </tr>\n",
       "  </thead>\n",
       "  <tbody>\n",
       "    <tr>\n",
       "      <th>0</th>\n",
       "      <td>1289956071537172484</td>\n",
       "      <td>1</td>\n",
       "    </tr>\n",
       "    <tr>\n",
       "      <th>1</th>\n",
       "      <td>1046084008742801408</td>\n",
       "      <td>93</td>\n",
       "    </tr>\n",
       "    <tr>\n",
       "      <th>2</th>\n",
       "      <td>1171388755</td>\n",
       "      <td>1</td>\n",
       "    </tr>\n",
       "    <tr>\n",
       "      <th>3</th>\n",
       "      <td>548904824</td>\n",
       "      <td>60</td>\n",
       "    </tr>\n",
       "    <tr>\n",
       "      <th>4</th>\n",
       "      <td>589687384</td>\n",
       "      <td>1</td>\n",
       "    </tr>\n",
       "  </tbody>\n",
       "</table>\n",
       "</div>"
      ],
      "text/plain": [
       "                  Node  Degree\n",
       "0  1289956071537172484       1\n",
       "1  1046084008742801408      93\n",
       "2           1171388755       1\n",
       "3            548904824      60\n",
       "4            589687384       1"
      ]
     },
     "execution_count": 9,
     "metadata": {},
     "output_type": "execute_result"
    }
   ],
   "source": [
    "# Print pair of node and its degree\n",
    "\n",
    "data = {'Node' : gpdNode,\n",
    "        'Degree' : gpdDegree}\n",
    "df_NodeDegree = pd.DataFrame(data)\n",
    "df_NodeDegree.head()"
   ]
  },
  {
   "cell_type": "code",
   "execution_count": 10,
   "metadata": {},
   "outputs": [
    {
     "data": {
      "text/html": [
       "<div>\n",
       "<style scoped>\n",
       "    .dataframe tbody tr th:only-of-type {\n",
       "        vertical-align: middle;\n",
       "    }\n",
       "\n",
       "    .dataframe tbody tr th {\n",
       "        vertical-align: top;\n",
       "    }\n",
       "\n",
       "    .dataframe thead th {\n",
       "        text-align: right;\n",
       "    }\n",
       "</style>\n",
       "<table border=\"1\" class=\"dataframe\">\n",
       "  <thead>\n",
       "    <tr style=\"text-align: right;\">\n",
       "      <th></th>\n",
       "      <th>Node</th>\n",
       "      <th>Degree</th>\n",
       "    </tr>\n",
       "  </thead>\n",
       "  <tbody>\n",
       "    <tr>\n",
       "      <th>7</th>\n",
       "      <td>255409050</td>\n",
       "      <td>167</td>\n",
       "    </tr>\n",
       "    <tr>\n",
       "      <th>89</th>\n",
       "      <td>393823624</td>\n",
       "      <td>110</td>\n",
       "    </tr>\n",
       "    <tr>\n",
       "      <th>1</th>\n",
       "      <td>1046084008742801408</td>\n",
       "      <td>93</td>\n",
       "    </tr>\n",
       "    <tr>\n",
       "      <th>611</th>\n",
       "      <td>69183155</td>\n",
       "      <td>60</td>\n",
       "    </tr>\n",
       "    <tr>\n",
       "      <th>3</th>\n",
       "      <td>548904824</td>\n",
       "      <td>60</td>\n",
       "    </tr>\n",
       "    <tr>\n",
       "      <th>105</th>\n",
       "      <td>4187275698</td>\n",
       "      <td>38</td>\n",
       "    </tr>\n",
       "    <tr>\n",
       "      <th>116</th>\n",
       "      <td>1068065299214163968</td>\n",
       "      <td>37</td>\n",
       "    </tr>\n",
       "    <tr>\n",
       "      <th>182</th>\n",
       "      <td>1304156379494506497</td>\n",
       "      <td>32</td>\n",
       "    </tr>\n",
       "    <tr>\n",
       "      <th>78</th>\n",
       "      <td>982557721575608320</td>\n",
       "      <td>27</td>\n",
       "    </tr>\n",
       "    <tr>\n",
       "      <th>24</th>\n",
       "      <td>100447031</td>\n",
       "      <td>26</td>\n",
       "    </tr>\n",
       "  </tbody>\n",
       "</table>\n",
       "</div>"
      ],
      "text/plain": [
       "                    Node  Degree\n",
       "7              255409050     167\n",
       "89             393823624     110\n",
       "1    1046084008742801408      93\n",
       "611             69183155      60\n",
       "3              548904824      60\n",
       "105           4187275698      38\n",
       "116  1068065299214163968      37\n",
       "182  1304156379494506497      32\n",
       "78    982557721575608320      27\n",
       "24             100447031      26"
      ]
     },
     "execution_count": 10,
     "metadata": {},
     "output_type": "execute_result"
    }
   ],
   "source": [
    "# Sort nodes based on the degree\n",
    "\n",
    "df_NodeDegree.sort_values(by=['Degree'], inplace=True, ascending=False)\n",
    "df_NodeDegree.head(10)"
   ]
  },
  {
   "cell_type": "code",
   "execution_count": 11,
   "metadata": {},
   "outputs": [
    {
     "data": {
      "text/plain": [
       "AtlasView({779784931: {}, 1191666951992426496: {}, 772369903542153217: {}, 1265045853611479040: {}, 1185895125408309251: {}, 233453602: {}, 1092600230036496384: {}, 1729592713: {}, 1033994528523354112: {}, 1297296847854170112: {}, 217731071: {}, 2592311312: {}, 917675732079329280: {}, 3355706668: {}, 768731685575729152: {}, 729229672349765632: {}, 1291193792104603648: {}, 1288111697224282112: {}, 1112181774992314368: {}, 4201441519: {}, 1177841654759219200: {}, 1206669167589330944: {}, 863337891019149312: {}, 1524416606: {}, 1187209594117844992: {}, 1305965279931846656: {}, 884736227064266752: {}, 1285403202976755713: {}, 188642114: {}, 1264891396881694722: {}, 917440593877278720: {}, 1306874818839494656: {}, 1372201550: {}, 1649606504: {}, 2456958924: {}, 177502901: {}, 1078965512963387394: {}, 1196040384591220736: {}, 833217376271241216: {}, 902122958918963200: {}, 3848731: {}, 1119217226085650432: {}, 878946816: {}, 1005567776029724678: {}, 72514550: {}, 1073996516308660224: {}, 1095000764198473728: {}, 1181350639458062337: {}, 1066543303208787970: {}, 7543: {}, 1231137815368327168: {}, 463548010: {}, 1602761: {}, 1247753700182872068: {}, 1138432323261685761: {}, 237187314: {}, 1642806133: {}, 1037705443152343041: {}, 627868391: {}, 814289985595547648: {}, 3391398021: {}, 901992856956440576: {}, 963260986806362113: {}, 955978777628045312: {}, 95037577: {}, 929662543: {}, 4722272047: {}, 1074107864543719424: {}, 296025593: {}, 1002665712626720768: {}, 442431871: {}, 2164691767: {}, 1191022939908370432: {}, 1039314570546823168: {}, 393823624: {}, 854709638: {}, 788222900: {}, 3271114957: {}, 1009013449072902144: {}, 2653531: {}, 223449558: {}, 929988287321686018: {}, 1298252811549806593: {}, 1396571928: {}, 184286999: {}, 3131048062: {}, 1115697384: {}, 835415754245722112: {}, 867347845354893312: {}, 388745372: {}, 1297776372098555906: {}, 1017048997121257479: {}, 370622335: {}, 1046084008742801408: {}, 1131234473125617664: {}, 1221986688588636163: {}, 1120618970749358080: {}, 1305497948462088193: {}, 2982420716: {}, 1209657767016812544: {}, 1051291349398376449: {}, 1011453981493682176: {}, 3073932894: {}, 1383296580: {}, 1138444311266246658: {}, 1079893982: {}, 1962865280: {}, 141883833: {}, 1021725641736114176: {}, 1963793131: {}, 969453284753731584: {}, 88425587: {}, 16655021: {}, 911236861498032128: {}, 948155111917871104: {}, 249566492: {}, 1251528582020493312: {}, 1095332992858255360: {}, 821295300: {}, 1223255692636590080: {}, 1257235912884318208: {}, 536265074: {}, 961154639482646528: {}, 719254478: {}, 3059813407: {}, 100682129: {}, 344538366: {}, 1292798514565529601: {}, 308396720: {}, 1127900192: {}, 1239067846790885376: {}, 477713865: {}, 3193120159: {}, 1248399448822046729: {}, 1194226675950616578: {}, 139094252: {}, 257416226: {}, 4461068178: {}, 1634551123: {}, 72101997: {}, 1032908002448134144: {}, 1181461026039926785: {}, 110727388: {}, 1154600251480612864: {}, 3616332019: {}, 1066993367630790656: {}, 1071088162372370432: {}, 59479924: {}, 1137556979243659265: {}, 4098721: {}, 136566856: {}, 4386321: {}, 255409050: {}, 179430435: {}, 23335796: {}, 174971238: {}, 2419932986: {}, 22723294: {}, 243298593: {}, 797062480220418048: {}, 1089454075706408960: {}, 893748645425668097: {}, 1690771675: {}, 1296122828769488896: {}, 1128207505576697857: {}, 1056107640269357056: {}})"
      ]
     },
     "execution_count": 11,
     "metadata": {},
     "output_type": "execute_result"
    }
   ],
   "source": [
    "# Network of node 255409050\n",
    "G[255409050]"
   ]
  },
  {
   "cell_type": "markdown",
   "metadata": {},
   "source": [
    "## Degree centrality"
   ]
  },
  {
   "cell_type": "code",
   "execution_count": 24,
   "metadata": {},
   "outputs": [
    {
     "name": "stdout",
     "output_type": "stream",
     "text": [
      "Top 10 degree centrality value\n",
      "[0.0006925207756232687, 0.0006925207756232687, 0.0006925207756232687, 0.0006925207756232687, 0.0006925207756232687, 0.0006925207756232687, 0.0006925207756232687, 0.0006925207756232687, 0.0006925207756232687, 0.0006925207756232687]\n"
     ]
    }
   ],
   "source": [
    "# Count degree centrality\n",
    "\n",
    "dc = nx.degree_centrality(G)\n",
    "max_dc = list(dc.values())\n",
    "print(\"Top 10 degree centrality value\")\n",
    "print(sorted(max_dc, reverse=False)[:10])"
   ]
  },
  {
   "cell_type": "code",
   "execution_count": 23,
   "metadata": {},
   "outputs": [
    {
     "data": {
      "text/plain": [
       "[(255409050, 167, 0.11565096952908588),\n",
       " (393823624, 110, 0.07617728531855955),\n",
       " (1046084008742801408, 93, 0.06440443213296398),\n",
       " (548904824, 60, 0.04155124653739612),\n",
       " (69183155, 60, 0.04155124653739612),\n",
       " (4187275698, 38, 0.02631578947368421),\n",
       " (1068065299214163968, 37, 0.025623268698060944),\n",
       " (1304156379494506497, 32, 0.0221606648199446),\n",
       " (982557721575608320, 27, 0.018698060941828253),\n",
       " (100447031, 26, 0.018005540166204988)]"
      ]
     },
     "execution_count": 23,
     "metadata": {},
     "output_type": "execute_result"
    }
   ],
   "source": [
    "# Map the node, number of degree, and degree centrality value\n",
    "\n",
    "node_to_degrees = sorted(dict(G.degree()).items(), key = lambda x: x[1], reverse = True)\n",
    "n_1 = float(len(node_to_degrees) - 1)\n",
    "degree_centrality = [ (n, k, k/n_1) for n, k in node_to_degrees ]\n",
    "sorted(degree_centrality, key = lambda x: x[2], reverse=True)[:10]\n",
    "# print(top10)"
   ]
  },
  {
   "cell_type": "markdown",
   "metadata": {},
   "source": [
    "## Print top 10 influencers"
   ]
  },
  {
   "cell_type": "code",
   "execution_count": 14,
   "metadata": {},
   "outputs": [
    {
     "name": "stdout",
     "output_type": "stream",
     "text": [
      "Authentication OK\n"
     ]
    }
   ],
   "source": [
    "import tweepy\n",
    "CONSUMER_KEY = \"\"\n",
    "CONSUMER_SECRET = \"\"\n",
    "ACCESS_TOKEN = \"\"\n",
    "ACCESS_TOKEN_SECRET = \"\"\n",
    "\n",
    "auth = tweepy.OAuthHandler(CONSUMER_KEY,CONSUMER_SECRET) \n",
    "auth.set_access_token(ACCESS_TOKEN,ACCESS_TOKEN_SECRET)\n",
    "\n",
    "api = tweepy.API(auth, wait_on_rate_limit=True)\n",
    "\n",
    "try:\n",
    "    api.verify_credentials()\n",
    "    print(\"Authentication OK\")\n",
    "except:\n",
    "    print(\"Error during authentication\")"
   ]
  },
  {
   "cell_type": "code",
   "execution_count": 15,
   "metadata": {
    "scrolled": true
   },
   "outputs": [
    {
     "name": "stdout",
     "output_type": "stream",
     "text": [
      "Top 10 most influential users : \n",
      "Username:  Telkomsel | No. Degree:  167 | Degree Centrality :  0.11565096952908588\n",
      "Username:  kemdikbud | No. Degree:  110 | Degree Centrality :  0.07617728531855955\n",
      "Username:  collegemenfess | No. Degree:  93 | Degree Centrality :  0.06440443213296398\n",
      "Username:  IndosatCare | No. Degree:  60 | Degree Centrality :  0.04155124653739612\n",
      "Username:  detikcom | No. Degree:  60 | Degree Centrality :  0.04155124653739612\n",
      "Username:  TirtoID | No. Degree:  38 | Degree Centrality :  0.02631578947368421\n",
      "Username:  3CareIndonesia | No. Degree:  37 | Degree Centrality :  0.025623268698060944\n",
      "Username:  Bariq227 | No. Degree:  32 | Degree Centrality :  0.0221606648199446\n",
      "Username:  IndosatOoredoo | No. Degree:  27 | Degree Centrality :  0.018698060941828253\n",
      "Username:  ITJen | No. Degree:  26 | Degree Centrality :  0.018005540166204988\n"
     ]
    }
   ],
   "source": [
    "IDs = []\n",
    "for ID in top10 :\n",
    "    IDs.append(ID[0])\n",
    "\n",
    "print(\"Top 10 most influential users : \")\n",
    "for ID in top10 :\n",
    "    user = api.get_user(ID[0]) \n",
    "    screen_name = user.screen_name\n",
    "    print(\"Username: \", screen_name, \"| No. Degree: \", ID[1], \"| Degree Centrality : \", ID[2])"
   ]
  },
  {
   "cell_type": "code",
   "execution_count": 22,
   "metadata": {},
   "outputs": [
    {
     "name": "stdout",
     "output_type": "stream",
     "text": [
      "Top 10 most influential users : \n",
      "Telkomsel\n",
      "kemdikbud\n",
      "collegemenfess\n",
      "IndosatCare\n",
      "detikcom\n",
      "TirtoID\n",
      "3CareIndonesia\n",
      "Bariq227\n",
      "IndosatOoredoo\n",
      "ITJen\n"
     ]
    }
   ],
   "source": [
    "IDs = []\n",
    "for ID in top10 :\n",
    "    IDs.append(ID[0])\n",
    "\n",
    "print(\"Top 10 most influential users : \")\n",
    "for ID in top10 :\n",
    "    user = api.get_user(ID[0]) \n",
    "    screen_name = user.screen_name\n",
    "    print(screen_name)"
   ]
  }
 ],
 "metadata": {
  "kernelspec": {
   "display_name": "Python 3",
   "language": "python",
   "name": "python3"
  },
  "language_info": {
   "codemirror_mode": {
    "name": "ipython",
    "version": 3
   },
   "file_extension": ".py",
   "mimetype": "text/x-python",
   "name": "python",
   "nbconvert_exporter": "python",
   "pygments_lexer": "ipython3",
   "version": "3.7.3"
  }
 },
 "nbformat": 4,
 "nbformat_minor": 2
}
