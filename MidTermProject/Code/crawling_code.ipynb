{
 "cells": [
  {
   "cell_type": "code",
   "execution_count": 1,
   "metadata": {},
   "outputs": [],
   "source": [
    "from tweepy import OAuthHandler\n",
    "import datetime\n",
    "import json, time, sys\n",
    "import csv\n",
    "import tweepy\n",
    "import pandas as pd"
   ]
  },
  {
   "cell_type": "code",
   "execution_count": 2,
   "metadata": {},
   "outputs": [],
   "source": [
    "consumer_key = \"\"\n",
    "consumer_secret = \"\"\n",
    "access_token = \"\"\n",
    "access_token_secret = \"\"\n",
    "\n",
    "auth = tweepy.OAuthHandler(consumer_key, consumer_secret)\n",
    "auth.set_access_token(access_token, access_token_secret)\n",
    "api = tweepy.API(auth,wait_on_rate_limit=True)"
   ]
  },
  {
   "cell_type": "markdown",
   "metadata": {},
   "source": [
    "### Crawling menggunakan API cursor "
   ]
  },
  {
   "cell_type": "code",
   "execution_count": 20,
   "metadata": {},
   "outputs": [
    {
     "name": "stdout",
     "output_type": "stream",
     "text": [
      "{'User ID': '1482254538', 'Name': 'UNSR! | OPEN DM', 'User': 'unsrifess', 'Text': 'Unsr! Kalo misalnya kuota bantuan kita hotspot ke laptop yg kepake kuota pendidikan atau kuota internet ya?', 'Created At': datetime.datetime(2020, 10, 4, 8, 3, 24), 'Location': None, 'Retweet Count': 0, 'Fav Count': 1}\n",
      "Running Time: 0:00:23.623942\n"
     ]
    }
   ],
   "source": [
    "from datetime import datetime\n",
    "start_time = datetime.now()\n",
    "\n",
    "\n",
    "tweets = []\n",
    "\n",
    "kw = ['bantuan kuota', 'subsidi kuota']\n",
    "for i in range(2) :\n",
    "    for tweet in tweepy.Cursor(api.search,q=kw[i],count=10000,\n",
    "                               lang=\"id\",\n",
    "                               since=\"2020-01-1\").items():\n",
    "        record = {\n",
    "            'User ID' : tweet.user.id_str,\n",
    "            'Name' : tweet.user.name,\n",
    "            'User' : tweet.user.screen_name,\n",
    "            'Text': tweet.text,\n",
    "            'Created At': tweet.created_at,\n",
    "            'Location' : tweet.place,\n",
    "            'Retweet Count' : tweet.retweet_count,\n",
    "            'Fav Count' : tweet.favorite_count\n",
    "        }\n",
    "        tweets.append(record)\n",
    "print(record)\n",
    "    \n",
    "end_time = datetime.now()\n",
    "print('Running Time: {}'.format(end_time - start_time))"
   ]
  },
  {
   "cell_type": "code",
   "execution_count": 23,
   "metadata": {},
   "outputs": [],
   "source": [
    "field_names = ['User ID', 'Name', 'User', 'Text', 'Created At', 'Location', 'Retweet Count', 'Fav Count'] \n",
    "with open('data_tweets01.csv', 'w', encoding='utf-8') as csvfile: \n",
    "    writer = csv.DictWriter(csvfile, fieldnames = field_names) \n",
    "    writer.writeheader() \n",
    "    writer.writerows(tweets) "
   ]
  }
 ],
 "metadata": {
  "kernelspec": {
   "display_name": "Python 3",
   "language": "python",
   "name": "python3"
  },
  "language_info": {
   "codemirror_mode": {
    "name": "ipython",
    "version": 3
   },
   "file_extension": ".py",
   "mimetype": "text/x-python",
   "name": "python",
   "nbconvert_exporter": "python",
   "pygments_lexer": "ipython3",
   "version": "3.7.3"
  }
 },
 "nbformat": 4,
 "nbformat_minor": 2
}
