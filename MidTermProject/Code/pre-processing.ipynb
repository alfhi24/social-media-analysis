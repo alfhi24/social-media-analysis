{
 "cells": [
  {
   "cell_type": "code",
   "execution_count": 138,
   "metadata": {},
   "outputs": [],
   "source": [
    "import pandas as pd\n",
    "import re\n",
    "import tweepy\n",
    "import numpy as np"
   ]
  },
  {
   "cell_type": "code",
   "execution_count": 200,
   "metadata": {},
   "outputs": [
    {
     "name": "stdout",
     "output_type": "stream",
     "text": [
      "Authentication OK\n"
     ]
    }
   ],
   "source": [
    "CONSUMER_KEY = \"\"\n",
    "CONSUMER_SECRET = \"\"\n",
    "ACCESS_TOKEN = \"\"\n",
    "ACCESS_TOKEN_SECRET = \"\"\n",
    "\n",
    "auth = tweepy.OAuthHandler(CONSUMER_KEY,CONSUMER_SECRET) \n",
    "auth.set_access_token(ACCESS_TOKEN,ACCESS_TOKEN_SECRET)\n",
    "\n",
    "api = tweepy.API(auth, wait_on_rate_limit=True)\n",
    "\n",
    "try:\n",
    "    api.verify_credentials()\n",
    "    print(\"Authentication OK\")\n",
    "except:\n",
    "    print(\"Error during authentication\")"
   ]
  },
  {
   "cell_type": "markdown",
   "metadata": {},
   "source": [
    "## Read the dataset"
   ]
  },
  {
   "cell_type": "code",
   "execution_count": 239,
   "metadata": {
    "scrolled": true
   },
   "outputs": [
    {
     "data": {
      "text/html": [
       "<div>\n",
       "<style scoped>\n",
       "    .dataframe tbody tr th:only-of-type {\n",
       "        vertical-align: middle;\n",
       "    }\n",
       "\n",
       "    .dataframe tbody tr th {\n",
       "        vertical-align: top;\n",
       "    }\n",
       "\n",
       "    .dataframe thead th {\n",
       "        text-align: right;\n",
       "    }\n",
       "</style>\n",
       "<table border=\"1\" class=\"dataframe\">\n",
       "  <thead>\n",
       "    <tr style=\"text-align: right;\">\n",
       "      <th></th>\n",
       "      <th>User ID</th>\n",
       "      <th>Name</th>\n",
       "      <th>User</th>\n",
       "      <th>Text</th>\n",
       "      <th>Created At</th>\n",
       "      <th>Location</th>\n",
       "      <th>Retweet Count</th>\n",
       "      <th>Fav Count</th>\n",
       "    </tr>\n",
       "  </thead>\n",
       "  <tbody>\n",
       "    <tr>\n",
       "      <th>0</th>\n",
       "      <td>1163060730590982144</td>\n",
       "      <td>kabel // kinda ia💘👋</td>\n",
       "      <td>wllyh_</td>\n",
       "      <td>dhlh bingung gmna utk kuliah besok lusa dan st...</td>\n",
       "      <td>2020-09-30 13:26:11</td>\n",
       "      <td>NaN</td>\n",
       "      <td>0</td>\n",
       "      <td>0</td>\n",
       "    </tr>\n",
       "    <tr>\n",
       "      <th>1</th>\n",
       "      <td>1289956071537172484</td>\n",
       "      <td>orangcanteeq</td>\n",
       "      <td>siapaakooo</td>\n",
       "      <td>@collegemenfess Kuota bantuan indosat lemot gi...</td>\n",
       "      <td>2020-09-30 13:23:30</td>\n",
       "      <td>NaN</td>\n",
       "      <td>0</td>\n",
       "      <td>0</td>\n",
       "    </tr>\n",
       "    <tr>\n",
       "      <th>2</th>\n",
       "      <td>1171388755</td>\n",
       "      <td>nes🌙</td>\n",
       "      <td>lattetrash</td>\n",
       "      <td>RT @collegemenfess: [cm] Alhamdulillah, Indosa...</td>\n",
       "      <td>2020-09-30 13:21:02</td>\n",
       "      <td>NaN</td>\n",
       "      <td>7</td>\n",
       "      <td>0</td>\n",
       "    </tr>\n",
       "    <tr>\n",
       "      <th>3</th>\n",
       "      <td>548904824</td>\n",
       "      <td>Indosat Ooredoo Care</td>\n",
       "      <td>IndosatCare</td>\n",
       "      <td>@ovienndt Hai Kak Ovie, maaf nih atas kendalan...</td>\n",
       "      <td>2020-09-30 13:06:19</td>\n",
       "      <td>NaN</td>\n",
       "      <td>0</td>\n",
       "      <td>0</td>\n",
       "    </tr>\n",
       "    <tr>\n",
       "      <th>4</th>\n",
       "      <td>1201845514259484672</td>\n",
       "      <td>celo</td>\n",
       "      <td>xholtmaan</td>\n",
       "      <td>bulan kmren gue dpet subsidi kuota dr sekolah,...</td>\n",
       "      <td>2020-09-30 13:05:48</td>\n",
       "      <td>NaN</td>\n",
       "      <td>0</td>\n",
       "      <td>0</td>\n",
       "    </tr>\n",
       "    <tr>\n",
       "      <th>5</th>\n",
       "      <td>1201845514259484672</td>\n",
       "      <td>celo</td>\n",
       "      <td>xholtmaan</td>\n",
       "      <td>jadi kan gue lagi mikir nih bantuan kuota dr p...</td>\n",
       "      <td>2020-09-30 13:05:47</td>\n",
       "      <td>NaN</td>\n",
       "      <td>0</td>\n",
       "      <td>0</td>\n",
       "    </tr>\n",
       "    <tr>\n",
       "      <th>6</th>\n",
       "      <td>433862698</td>\n",
       "      <td>Firmanto</td>\n",
       "      <td>damar_dyf</td>\n",
       "      <td>Kenapa kuota belajar bantuan Kemendikbud nggak...</td>\n",
       "      <td>2020-09-30 13:05:21</td>\n",
       "      <td>NaN</td>\n",
       "      <td>0</td>\n",
       "      <td>0</td>\n",
       "    </tr>\n",
       "    <tr>\n",
       "      <th>7</th>\n",
       "      <td>548904824</td>\n",
       "      <td>Indosat Ooredoo Care</td>\n",
       "      <td>IndosatCare</td>\n",
       "      <td>@tentaclesTentac Hai Kak, maaf untuk pengalama...</td>\n",
       "      <td>2020-09-30 13:02:39</td>\n",
       "      <td>NaN</td>\n",
       "      <td>0</td>\n",
       "      <td>0</td>\n",
       "    </tr>\n",
       "    <tr>\n",
       "      <th>8</th>\n",
       "      <td>1286269100507852801</td>\n",
       "      <td>S T O P I T⁷</td>\n",
       "      <td>bucinJinJay</td>\n",
       "      <td>pada dapat bantuan kuota gtu ga sih ? \\r\\nTapi...</td>\n",
       "      <td>2020-09-30 13:01:53</td>\n",
       "      <td>NaN</td>\n",
       "      <td>0</td>\n",
       "      <td>0</td>\n",
       "    </tr>\n",
       "    <tr>\n",
       "      <th>9</th>\n",
       "      <td>779784931</td>\n",
       "      <td>세정 오빠 🐳</td>\n",
       "      <td>MichellaOey1</td>\n",
       "      <td>@Telkomsel Kalau kuota bantuan ini, bisa untuk...</td>\n",
       "      <td>2020-09-30 13:00:46</td>\n",
       "      <td>NaN</td>\n",
       "      <td>0</td>\n",
       "      <td>0</td>\n",
       "    </tr>\n",
       "  </tbody>\n",
       "</table>\n",
       "</div>"
      ],
      "text/plain": [
       "               User ID                  Name          User  \\\n",
       "0  1163060730590982144   kabel // kinda ia💘👋        wllyh_   \n",
       "1  1289956071537172484          orangcanteeq    siapaakooo   \n",
       "2           1171388755                  nes🌙    lattetrash   \n",
       "3            548904824  Indosat Ooredoo Care   IndosatCare   \n",
       "4  1201845514259484672                  celo     xholtmaan   \n",
       "5  1201845514259484672                  celo     xholtmaan   \n",
       "6            433862698              Firmanto     damar_dyf   \n",
       "7            548904824  Indosat Ooredoo Care   IndosatCare   \n",
       "8  1286269100507852801          S T O P I T⁷   bucinJinJay   \n",
       "9            779784931               세정 오빠 🐳  MichellaOey1   \n",
       "\n",
       "                                                Text           Created At  \\\n",
       "0  dhlh bingung gmna utk kuliah besok lusa dan st...  2020-09-30 13:26:11   \n",
       "1  @collegemenfess Kuota bantuan indosat lemot gi...  2020-09-30 13:23:30   \n",
       "2  RT @collegemenfess: [cm] Alhamdulillah, Indosa...  2020-09-30 13:21:02   \n",
       "3  @ovienndt Hai Kak Ovie, maaf nih atas kendalan...  2020-09-30 13:06:19   \n",
       "4  bulan kmren gue dpet subsidi kuota dr sekolah,...  2020-09-30 13:05:48   \n",
       "5  jadi kan gue lagi mikir nih bantuan kuota dr p...  2020-09-30 13:05:47   \n",
       "6  Kenapa kuota belajar bantuan Kemendikbud nggak...  2020-09-30 13:05:21   \n",
       "7  @tentaclesTentac Hai Kak, maaf untuk pengalama...  2020-09-30 13:02:39   \n",
       "8  pada dapat bantuan kuota gtu ga sih ? \\r\\nTapi...  2020-09-30 13:01:53   \n",
       "9  @Telkomsel Kalau kuota bantuan ini, bisa untuk...  2020-09-30 13:00:46   \n",
       "\n",
       "  Location  Retweet Count  Fav Count  \n",
       "0      NaN              0          0  \n",
       "1      NaN              0          0  \n",
       "2      NaN              7          0  \n",
       "3      NaN              0          0  \n",
       "4      NaN              0          0  \n",
       "5      NaN              0          0  \n",
       "6      NaN              0          0  \n",
       "7      NaN              0          0  \n",
       "8      NaN              0          0  \n",
       "9      NaN              0          0  "
      ]
     },
     "execution_count": 239,
     "metadata": {},
     "output_type": "execute_result"
    }
   ],
   "source": [
    "df = pd.read_csv('data_tweets01.csv')\n",
    "df.head(10)"
   ]
  },
  {
   "cell_type": "code",
   "execution_count": 141,
   "metadata": {},
   "outputs": [
    {
     "data": {
      "text/plain": [
       "(4662, 8)"
      ]
     },
     "execution_count": 141,
     "metadata": {},
     "output_type": "execute_result"
    }
   ],
   "source": [
    "df.shape"
   ]
  },
  {
   "cell_type": "code",
   "execution_count": 142,
   "metadata": {},
   "outputs": [],
   "source": [
    "data = pd.DataFrame()\n",
    "data['id_user'] = df['User ID']\n",
    "data['user'] = df['User']\n",
    "data['text'] = df['Text']"
   ]
  },
  {
   "cell_type": "code",
   "execution_count": 143,
   "metadata": {
    "scrolled": false
   },
   "outputs": [
    {
     "data": {
      "text/html": [
       "<div>\n",
       "<style scoped>\n",
       "    .dataframe tbody tr th:only-of-type {\n",
       "        vertical-align: middle;\n",
       "    }\n",
       "\n",
       "    .dataframe tbody tr th {\n",
       "        vertical-align: top;\n",
       "    }\n",
       "\n",
       "    .dataframe thead th {\n",
       "        text-align: right;\n",
       "    }\n",
       "</style>\n",
       "<table border=\"1\" class=\"dataframe\">\n",
       "  <thead>\n",
       "    <tr style=\"text-align: right;\">\n",
       "      <th></th>\n",
       "      <th>id_user</th>\n",
       "      <th>user</th>\n",
       "      <th>text</th>\n",
       "    </tr>\n",
       "  </thead>\n",
       "  <tbody>\n",
       "    <tr>\n",
       "      <th>0</th>\n",
       "      <td>1163060730590982144</td>\n",
       "      <td>wllyh_</td>\n",
       "      <td>dhlh bingung gmna utk kuliah besok lusa dan st...</td>\n",
       "    </tr>\n",
       "    <tr>\n",
       "      <th>1</th>\n",
       "      <td>1289956071537172484</td>\n",
       "      <td>siapaakooo</td>\n",
       "      <td>@collegemenfess Kuota bantuan indosat lemot gi...</td>\n",
       "    </tr>\n",
       "    <tr>\n",
       "      <th>2</th>\n",
       "      <td>1171388755</td>\n",
       "      <td>lattetrash</td>\n",
       "      <td>RT @collegemenfess: [cm] Alhamdulillah, Indosa...</td>\n",
       "    </tr>\n",
       "    <tr>\n",
       "      <th>3</th>\n",
       "      <td>548904824</td>\n",
       "      <td>IndosatCare</td>\n",
       "      <td>@ovienndt Hai Kak Ovie, maaf nih atas kendalan...</td>\n",
       "    </tr>\n",
       "    <tr>\n",
       "      <th>4</th>\n",
       "      <td>1201845514259484672</td>\n",
       "      <td>xholtmaan</td>\n",
       "      <td>bulan kmren gue dpet subsidi kuota dr sekolah,...</td>\n",
       "    </tr>\n",
       "  </tbody>\n",
       "</table>\n",
       "</div>"
      ],
      "text/plain": [
       "               id_user         user  \\\n",
       "0  1163060730590982144       wllyh_   \n",
       "1  1289956071537172484   siapaakooo   \n",
       "2           1171388755   lattetrash   \n",
       "3            548904824  IndosatCare   \n",
       "4  1201845514259484672    xholtmaan   \n",
       "\n",
       "                                                text  \n",
       "0  dhlh bingung gmna utk kuliah besok lusa dan st...  \n",
       "1  @collegemenfess Kuota bantuan indosat lemot gi...  \n",
       "2  RT @collegemenfess: [cm] Alhamdulillah, Indosa...  \n",
       "3  @ovienndt Hai Kak Ovie, maaf nih atas kendalan...  \n",
       "4  bulan kmren gue dpet subsidi kuota dr sekolah,...  "
      ]
     },
     "execution_count": 143,
     "metadata": {},
     "output_type": "execute_result"
    }
   ],
   "source": [
    "data.head()"
   ]
  },
  {
   "cell_type": "markdown",
   "metadata": {},
   "source": [
    "## Extract mentioned user from the tweet"
   ]
  },
  {
   "cell_type": "code",
   "execution_count": 144,
   "metadata": {},
   "outputs": [
    {
     "data": {
      "text/plain": [
       "'@collegemenfess Kuota bantuan indosat lemot gitu gasih kalo dipake?? Apa cuma punyaku aja??'"
      ]
     },
     "execution_count": 144,
     "metadata": {},
     "output_type": "execute_result"
    }
   ],
   "source": [
    "data['text'][1]"
   ]
  },
  {
   "cell_type": "code",
   "execution_count": 145,
   "metadata": {},
   "outputs": [
    {
     "name": "stdout",
     "output_type": "stream",
     "text": [
      "[('', 'collegemenfess')]\n"
     ]
    }
   ],
   "source": [
    "result = re.findall(\"(^|[^@\\w])@(\\w{1,15})\", data['text'][1])\n",
    "print(result);"
   ]
  },
  {
   "cell_type": "code",
   "execution_count": 146,
   "metadata": {},
   "outputs": [],
   "source": [
    "def extract(tweet):\n",
    "    return re.findall(\"@([a-zA-Z0-9]{1,15})\", tweet)\n",
    "\n",
    "data['mentioned_user'] = data['text'].apply(lambda x: extract(x))"
   ]
  },
  {
   "cell_type": "code",
   "execution_count": 147,
   "metadata": {
    "scrolled": false
   },
   "outputs": [
    {
     "data": {
      "text/html": [
       "<div>\n",
       "<style scoped>\n",
       "    .dataframe tbody tr th:only-of-type {\n",
       "        vertical-align: middle;\n",
       "    }\n",
       "\n",
       "    .dataframe tbody tr th {\n",
       "        vertical-align: top;\n",
       "    }\n",
       "\n",
       "    .dataframe thead th {\n",
       "        text-align: right;\n",
       "    }\n",
       "</style>\n",
       "<table border=\"1\" class=\"dataframe\">\n",
       "  <thead>\n",
       "    <tr style=\"text-align: right;\">\n",
       "      <th></th>\n",
       "      <th>id_user</th>\n",
       "      <th>user</th>\n",
       "      <th>text</th>\n",
       "      <th>mentioned_user</th>\n",
       "    </tr>\n",
       "  </thead>\n",
       "  <tbody>\n",
       "    <tr>\n",
       "      <th>0</th>\n",
       "      <td>1163060730590982144</td>\n",
       "      <td>wllyh_</td>\n",
       "      <td>dhlh bingung gmna utk kuliah besok lusa dan st...</td>\n",
       "      <td>[]</td>\n",
       "    </tr>\n",
       "    <tr>\n",
       "      <th>1</th>\n",
       "      <td>1289956071537172484</td>\n",
       "      <td>siapaakooo</td>\n",
       "      <td>@collegemenfess Kuota bantuan indosat lemot gi...</td>\n",
       "      <td>[collegemenfess]</td>\n",
       "    </tr>\n",
       "    <tr>\n",
       "      <th>2</th>\n",
       "      <td>1171388755</td>\n",
       "      <td>lattetrash</td>\n",
       "      <td>RT @collegemenfess: [cm] Alhamdulillah, Indosa...</td>\n",
       "      <td>[collegemenfess]</td>\n",
       "    </tr>\n",
       "    <tr>\n",
       "      <th>3</th>\n",
       "      <td>548904824</td>\n",
       "      <td>IndosatCare</td>\n",
       "      <td>@ovienndt Hai Kak Ovie, maaf nih atas kendalan...</td>\n",
       "      <td>[ovienndt]</td>\n",
       "    </tr>\n",
       "    <tr>\n",
       "      <th>4</th>\n",
       "      <td>1201845514259484672</td>\n",
       "      <td>xholtmaan</td>\n",
       "      <td>bulan kmren gue dpet subsidi kuota dr sekolah,...</td>\n",
       "      <td>[]</td>\n",
       "    </tr>\n",
       "  </tbody>\n",
       "</table>\n",
       "</div>"
      ],
      "text/plain": [
       "               id_user         user  \\\n",
       "0  1163060730590982144       wllyh_   \n",
       "1  1289956071537172484   siapaakooo   \n",
       "2           1171388755   lattetrash   \n",
       "3            548904824  IndosatCare   \n",
       "4  1201845514259484672    xholtmaan   \n",
       "\n",
       "                                                text    mentioned_user  \n",
       "0  dhlh bingung gmna utk kuliah besok lusa dan st...                []  \n",
       "1  @collegemenfess Kuota bantuan indosat lemot gi...  [collegemenfess]  \n",
       "2  RT @collegemenfess: [cm] Alhamdulillah, Indosa...  [collegemenfess]  \n",
       "3  @ovienndt Hai Kak Ovie, maaf nih atas kendalan...        [ovienndt]  \n",
       "4  bulan kmren gue dpet subsidi kuota dr sekolah,...                []  "
      ]
     },
     "execution_count": 147,
     "metadata": {},
     "output_type": "execute_result"
    }
   ],
   "source": [
    "data.head()"
   ]
  },
  {
   "cell_type": "markdown",
   "metadata": {},
   "source": [
    "### Get ID of mentioned user"
   ]
  },
  {
   "cell_type": "code",
   "execution_count": 151,
   "metadata": {},
   "outputs": [],
   "source": [
    "def get_id(user_list) :\n",
    "    ID = []\n",
    "    try :\n",
    "        for user in user_list :\n",
    "            temp = api.get_user(user)\n",
    "            ID.append(int(temp.id_str))\n",
    "    except tweepy.TweepError:\n",
    "        ID.append('kosong')\n",
    "    return ID"
   ]
  },
  {
   "cell_type": "code",
   "execution_count": 152,
   "metadata": {},
   "outputs": [],
   "source": [
    "data['id_mentioned_user'] = data['mentioned_user'].apply(lambda x: get_id(x))"
   ]
  },
  {
   "cell_type": "code",
   "execution_count": 154,
   "metadata": {
    "scrolled": true
   },
   "outputs": [
    {
     "data": {
      "text/html": [
       "<div>\n",
       "<style scoped>\n",
       "    .dataframe tbody tr th:only-of-type {\n",
       "        vertical-align: middle;\n",
       "    }\n",
       "\n",
       "    .dataframe tbody tr th {\n",
       "        vertical-align: top;\n",
       "    }\n",
       "\n",
       "    .dataframe thead th {\n",
       "        text-align: right;\n",
       "    }\n",
       "</style>\n",
       "<table border=\"1\" class=\"dataframe\">\n",
       "  <thead>\n",
       "    <tr style=\"text-align: right;\">\n",
       "      <th></th>\n",
       "      <th>id_user</th>\n",
       "      <th>user</th>\n",
       "      <th>text</th>\n",
       "      <th>mentioned_user</th>\n",
       "      <th>id_mentioned_user</th>\n",
       "    </tr>\n",
       "  </thead>\n",
       "  <tbody>\n",
       "    <tr>\n",
       "      <th>0</th>\n",
       "      <td>1163060730590982144</td>\n",
       "      <td>wllyh_</td>\n",
       "      <td>dhlh bingung gmna utk kuliah besok lusa dan st...</td>\n",
       "      <td>[]</td>\n",
       "      <td>[]</td>\n",
       "    </tr>\n",
       "    <tr>\n",
       "      <th>1</th>\n",
       "      <td>1289956071537172484</td>\n",
       "      <td>siapaakooo</td>\n",
       "      <td>@collegemenfess Kuota bantuan indosat lemot gi...</td>\n",
       "      <td>[collegemenfess]</td>\n",
       "      <td>[1046084008742801408]</td>\n",
       "    </tr>\n",
       "    <tr>\n",
       "      <th>2</th>\n",
       "      <td>1171388755</td>\n",
       "      <td>lattetrash</td>\n",
       "      <td>RT @collegemenfess: [cm] Alhamdulillah, Indosa...</td>\n",
       "      <td>[collegemenfess]</td>\n",
       "      <td>[1046084008742801408]</td>\n",
       "    </tr>\n",
       "    <tr>\n",
       "      <th>3</th>\n",
       "      <td>548904824</td>\n",
       "      <td>IndosatCare</td>\n",
       "      <td>@ovienndt Hai Kak Ovie, maaf nih atas kendalan...</td>\n",
       "      <td>[ovienndt]</td>\n",
       "      <td>[589687384]</td>\n",
       "    </tr>\n",
       "    <tr>\n",
       "      <th>4</th>\n",
       "      <td>1201845514259484672</td>\n",
       "      <td>xholtmaan</td>\n",
       "      <td>bulan kmren gue dpet subsidi kuota dr sekolah,...</td>\n",
       "      <td>[]</td>\n",
       "      <td>[]</td>\n",
       "    </tr>\n",
       "  </tbody>\n",
       "</table>\n",
       "</div>"
      ],
      "text/plain": [
       "               id_user         user  \\\n",
       "0  1163060730590982144       wllyh_   \n",
       "1  1289956071537172484   siapaakooo   \n",
       "2           1171388755   lattetrash   \n",
       "3            548904824  IndosatCare   \n",
       "4  1201845514259484672    xholtmaan   \n",
       "\n",
       "                                                text    mentioned_user  \\\n",
       "0  dhlh bingung gmna utk kuliah besok lusa dan st...                []   \n",
       "1  @collegemenfess Kuota bantuan indosat lemot gi...  [collegemenfess]   \n",
       "2  RT @collegemenfess: [cm] Alhamdulillah, Indosa...  [collegemenfess]   \n",
       "3  @ovienndt Hai Kak Ovie, maaf nih atas kendalan...        [ovienndt]   \n",
       "4  bulan kmren gue dpet subsidi kuota dr sekolah,...                []   \n",
       "\n",
       "       id_mentioned_user  \n",
       "0                     []  \n",
       "1  [1046084008742801408]  \n",
       "2  [1046084008742801408]  \n",
       "3            [589687384]  \n",
       "4                     []  "
      ]
     },
     "execution_count": 154,
     "metadata": {},
     "output_type": "execute_result"
    }
   ],
   "source": [
    "data.head()"
   ]
  },
  {
   "cell_type": "code",
   "execution_count": 156,
   "metadata": {
    "scrolled": true
   },
   "outputs": [
    {
     "data": {
      "text/html": [
       "<div>\n",
       "<style scoped>\n",
       "    .dataframe tbody tr th:only-of-type {\n",
       "        vertical-align: middle;\n",
       "    }\n",
       "\n",
       "    .dataframe tbody tr th {\n",
       "        vertical-align: top;\n",
       "    }\n",
       "\n",
       "    .dataframe thead th {\n",
       "        text-align: right;\n",
       "    }\n",
       "</style>\n",
       "<table border=\"1\" class=\"dataframe\">\n",
       "  <thead>\n",
       "    <tr style=\"text-align: right;\">\n",
       "      <th></th>\n",
       "      <th>id_user</th>\n",
       "      <th>id_mentioned_user</th>\n",
       "    </tr>\n",
       "  </thead>\n",
       "  <tbody>\n",
       "    <tr>\n",
       "      <th>0</th>\n",
       "      <td>1163060730590982144</td>\n",
       "      <td>[]</td>\n",
       "    </tr>\n",
       "    <tr>\n",
       "      <th>1</th>\n",
       "      <td>1289956071537172484</td>\n",
       "      <td>[1046084008742801408]</td>\n",
       "    </tr>\n",
       "    <tr>\n",
       "      <th>2</th>\n",
       "      <td>1171388755</td>\n",
       "      <td>[1046084008742801408]</td>\n",
       "    </tr>\n",
       "    <tr>\n",
       "      <th>3</th>\n",
       "      <td>548904824</td>\n",
       "      <td>[589687384]</td>\n",
       "    </tr>\n",
       "    <tr>\n",
       "      <th>4</th>\n",
       "      <td>1201845514259484672</td>\n",
       "      <td>[]</td>\n",
       "    </tr>\n",
       "  </tbody>\n",
       "</table>\n",
       "</div>"
      ],
      "text/plain": [
       "               id_user      id_mentioned_user\n",
       "0  1163060730590982144                     []\n",
       "1  1289956071537172484  [1046084008742801408]\n",
       "2           1171388755  [1046084008742801408]\n",
       "3            548904824            [589687384]\n",
       "4  1201845514259484672                     []"
      ]
     },
     "execution_count": 156,
     "metadata": {},
     "output_type": "execute_result"
    }
   ],
   "source": [
    "df_id = data[['id_user', 'id_mentioned_user']]\n",
    "df_id.head()"
   ]
  },
  {
   "cell_type": "code",
   "execution_count": 164,
   "metadata": {},
   "outputs": [
    {
     "data": {
      "text/plain": [
       "(4662, 2)"
      ]
     },
     "execution_count": 164,
     "metadata": {},
     "output_type": "execute_result"
    }
   ],
   "source": [
    "df_id.shape"
   ]
  },
  {
   "cell_type": "markdown",
   "metadata": {},
   "source": [
    "## Create dataset to be used as edges list"
   ]
  },
  {
   "cell_type": "code",
   "execution_count": 173,
   "metadata": {},
   "outputs": [],
   "source": [
    "list_id = df_id['id_user']\n",
    "list_id_mention = df_id['id_mentioned_user']\n",
    "new_list_id = []\n",
    "new_list_id_mention = []\n",
    "\n",
    "for i in range(len(list_id)) :\n",
    "    if (len(list_id_mention[i]) != 0) :\n",
    "        for j in range(len(list_id_mention[i])) :\n",
    "            if (list_id_mention[i][j] != 'kosong') :\n",
    "                new_list_id.append(int(list_id[i]))\n",
    "                new_list_id_mention.append(int(list_id_mention[i][j]))"
   ]
  },
  {
   "cell_type": "code",
   "execution_count": 241,
   "metadata": {
    "scrolled": true
   },
   "outputs": [
    {
     "data": {
      "text/html": [
       "<div>\n",
       "<style scoped>\n",
       "    .dataframe tbody tr th:only-of-type {\n",
       "        vertical-align: middle;\n",
       "    }\n",
       "\n",
       "    .dataframe tbody tr th {\n",
       "        vertical-align: top;\n",
       "    }\n",
       "\n",
       "    .dataframe thead th {\n",
       "        text-align: right;\n",
       "    }\n",
       "</style>\n",
       "<table border=\"1\" class=\"dataframe\">\n",
       "  <thead>\n",
       "    <tr style=\"text-align: right;\">\n",
       "      <th></th>\n",
       "      <th>source</th>\n",
       "      <th>target</th>\n",
       "    </tr>\n",
       "  </thead>\n",
       "  <tbody>\n",
       "    <tr>\n",
       "      <th>0</th>\n",
       "      <td>1289956071537172484</td>\n",
       "      <td>1046084008742801408</td>\n",
       "    </tr>\n",
       "    <tr>\n",
       "      <th>1</th>\n",
       "      <td>1171388755</td>\n",
       "      <td>1046084008742801408</td>\n",
       "    </tr>\n",
       "    <tr>\n",
       "      <th>2</th>\n",
       "      <td>548904824</td>\n",
       "      <td>589687384</td>\n",
       "    </tr>\n",
       "    <tr>\n",
       "      <th>3</th>\n",
       "      <td>548904824</td>\n",
       "      <td>1246657358844923904</td>\n",
       "    </tr>\n",
       "    <tr>\n",
       "      <th>4</th>\n",
       "      <td>779784931</td>\n",
       "      <td>255409050</td>\n",
       "    </tr>\n",
       "    <tr>\n",
       "      <th>5</th>\n",
       "      <td>612277839</td>\n",
       "      <td>17600950</td>\n",
       "    </tr>\n",
       "    <tr>\n",
       "      <th>6</th>\n",
       "      <td>1306834920992436224</td>\n",
       "      <td>790856528</td>\n",
       "    </tr>\n",
       "    <tr>\n",
       "      <th>7</th>\n",
       "      <td>1208708548911173632</td>\n",
       "      <td>917735162300981248</td>\n",
       "    </tr>\n",
       "  </tbody>\n",
       "</table>\n",
       "</div>"
      ],
      "text/plain": [
       "                source               target\n",
       "0  1289956071537172484  1046084008742801408\n",
       "1           1171388755  1046084008742801408\n",
       "2            548904824            589687384\n",
       "3            548904824  1246657358844923904\n",
       "4            779784931            255409050\n",
       "5            612277839             17600950\n",
       "6  1306834920992436224            790856528\n",
       "7  1208708548911173632   917735162300981248"
      ]
     },
     "execution_count": 241,
     "metadata": {},
     "output_type": "execute_result"
    }
   ],
   "source": [
    "new_id = list(zip(new_list_id,new_list_id_mention))\n",
    "new_id_df = pd.DataFrame(new_id)\n",
    "new_id_df.to_csv('preprocessed_id.txt', sep='\\t', index=False, header=True)\n",
    "new_id_df.columns =['source', 'target'] \n",
    "new_id_df.to_csv('edge_list.csv') \n",
    "new_id_df.head(8)"
   ]
  },
  {
   "cell_type": "code",
   "execution_count": 175,
   "metadata": {},
   "outputs": [
    {
     "data": {
      "text/plain": [
       "(1562, 2)"
      ]
     },
     "execution_count": 175,
     "metadata": {},
     "output_type": "execute_result"
    }
   ],
   "source": [
    "new_id_df.shape"
   ]
  },
  {
   "cell_type": "markdown",
   "metadata": {},
   "source": [
    "## Create dataset to be used as nodes list "
   ]
  },
  {
   "cell_type": "code",
   "execution_count": 212,
   "metadata": {},
   "outputs": [],
   "source": [
    "uni = new_id_df.copy()"
   ]
  },
  {
   "cell_type": "code",
   "execution_count": 213,
   "metadata": {
    "scrolled": true
   },
   "outputs": [],
   "source": [
    "column_values = uni[[0,1]].values\n",
    "unique_values =  np.unique(column_values)"
   ]
  },
  {
   "cell_type": "code",
   "execution_count": 214,
   "metadata": {},
   "outputs": [
    {
     "data": {
      "text/plain": [
       "1445"
      ]
     },
     "execution_count": 214,
     "metadata": {},
     "output_type": "execute_result"
    }
   ],
   "source": [
    "len(unique_values)"
   ]
  },
  {
   "cell_type": "code",
   "execution_count": 216,
   "metadata": {},
   "outputs": [
    {
     "name": "stdout",
     "output_type": "stream",
     "text": [
      "5511\n"
     ]
    }
   ],
   "source": [
    "print(unique_values[0])"
   ]
  },
  {
   "cell_type": "code",
   "execution_count": 219,
   "metadata": {},
   "outputs": [],
   "source": [
    "unique_name = []\n",
    "for i in range(len(unique_values)) :\n",
    "    try : \n",
    "        user = api.get_user(unique_values[i]) \n",
    "        screen_name = user.screen_name\n",
    "        unique_name.append([unique_values[i], screen_name])\n",
    "    except tweepy.TweepError:\n",
    "        unique_name.append([unique_values[i], 'NOT FOUND'])"
   ]
  },
  {
   "cell_type": "code",
   "execution_count": 222,
   "metadata": {
    "scrolled": false
   },
   "outputs": [
    {
     "data": {
      "text/plain": [
       "1445"
      ]
     },
     "execution_count": 222,
     "metadata": {},
     "output_type": "execute_result"
    }
   ],
   "source": [
    "len(unique_name)"
   ]
  },
  {
   "cell_type": "code",
   "execution_count": 242,
   "metadata": {
    "scrolled": true
   },
   "outputs": [
    {
     "data": {
      "text/html": [
       "<div>\n",
       "<style scoped>\n",
       "    .dataframe tbody tr th:only-of-type {\n",
       "        vertical-align: middle;\n",
       "    }\n",
       "\n",
       "    .dataframe tbody tr th {\n",
       "        vertical-align: top;\n",
       "    }\n",
       "\n",
       "    .dataframe thead th {\n",
       "        text-align: right;\n",
       "    }\n",
       "</style>\n",
       "<table border=\"1\" class=\"dataframe\">\n",
       "  <thead>\n",
       "    <tr style=\"text-align: right;\">\n",
       "      <th></th>\n",
       "      <th>id</th>\n",
       "      <th>label</th>\n",
       "    </tr>\n",
       "  </thead>\n",
       "  <tbody>\n",
       "    <tr>\n",
       "      <th>1437</th>\n",
       "      <td>1309512706127323143</td>\n",
       "      <td>bljaya</td>\n",
       "    </tr>\n",
       "    <tr>\n",
       "      <th>1438</th>\n",
       "      <td>1309526327586820097</td>\n",
       "      <td>Meri19509352</td>\n",
       "    </tr>\n",
       "    <tr>\n",
       "      <th>1439</th>\n",
       "      <td>1310532840572870656</td>\n",
       "      <td>AhraRaya</td>\n",
       "    </tr>\n",
       "    <tr>\n",
       "      <th>1440</th>\n",
       "      <td>1310727904704294917</td>\n",
       "      <td>notracable</td>\n",
       "    </tr>\n",
       "    <tr>\n",
       "      <th>1441</th>\n",
       "      <td>1310861203304902658</td>\n",
       "      <td>DwiGarnis6</td>\n",
       "    </tr>\n",
       "    <tr>\n",
       "      <th>1442</th>\n",
       "      <td>1310985558831722496</td>\n",
       "      <td>Anakran69858845</td>\n",
       "    </tr>\n",
       "    <tr>\n",
       "      <th>1443</th>\n",
       "      <td>1311152902300291076</td>\n",
       "      <td>yulia_aja_</td>\n",
       "    </tr>\n",
       "    <tr>\n",
       "      <th>1444</th>\n",
       "      <td>1311231067332829184</td>\n",
       "      <td>mydayxhan</td>\n",
       "    </tr>\n",
       "  </tbody>\n",
       "</table>\n",
       "</div>"
      ],
      "text/plain": [
       "                       id            label\n",
       "1437  1309512706127323143           bljaya\n",
       "1438  1309526327586820097     Meri19509352\n",
       "1439  1310532840572870656         AhraRaya\n",
       "1440  1310727904704294917       notracable\n",
       "1441  1310861203304902658       DwiGarnis6\n",
       "1442  1310985558831722496  Anakran69858845\n",
       "1443  1311152902300291076       yulia_aja_\n",
       "1444  1311231067332829184        mydayxhan"
      ]
     },
     "execution_count": 242,
     "metadata": {},
     "output_type": "execute_result"
    }
   ],
   "source": [
    "name_list = pd.DataFrame(unique_name)\n",
    "name_list.columns =['id', 'label'] \n",
    "name_list.to_csv('nodes_list.csv', index=False, header=True)\n",
    "name_list.tail(8)"
   ]
  }
 ],
 "metadata": {
  "kernelspec": {
   "display_name": "Python 3",
   "language": "python",
   "name": "python3"
  },
  "language_info": {
   "codemirror_mode": {
    "name": "ipython",
    "version": 3
   },
   "file_extension": ".py",
   "mimetype": "text/x-python",
   "name": "python",
   "nbconvert_exporter": "python",
   "pygments_lexer": "ipython3",
   "version": "3.7.3"
  }
 },
 "nbformat": 4,
 "nbformat_minor": 2
}
